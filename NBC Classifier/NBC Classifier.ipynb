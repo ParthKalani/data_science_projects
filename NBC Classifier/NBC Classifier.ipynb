{
 "cells": [
  {
   "cell_type": "code",
   "execution_count": 2,
   "id": "039557e6",
   "metadata": {},
   "outputs": [
    {
     "name": "stdout",
     "output_type": "stream",
     "text": [
      "Collecting google_play_scraper\n",
      "  Downloading google_play_scraper-1.2.3-py3-none-any.whl (28 kB)\n",
      "Installing collected packages: google_play_scraper\n",
      "Successfully installed google_play_scraper-1.2.3\n",
      "Note: you may need to restart the kernel to use updated packages.\n"
     ]
    }
   ],
   "source": [
    "pip install google_play_scraper"
   ]
  },
  {
   "cell_type": "code",
   "execution_count": 3,
   "id": "32060c7a",
   "metadata": {},
   "outputs": [],
   "source": [
    "# Import necessary libraries\n",
    "import pandas as pd\n",
    "import numpy as np\n",
    "import matplotlib.pyplot as plt\n",
    "import seaborn as sns\n",
    "from google_play_scraper import app, Sort, reviews_all"
   ]
  },
  {
   "cell_type": "code",
   "execution_count": 6,
   "id": "1747677d",
   "metadata": {},
   "outputs": [],
   "source": [
    "# Define and configure Google Play Scraper library\n",
    "users_reviews = reviews_all(\n",
    "    'com.busuu.android.en',\n",
    "    sleep_milliseconds=0,\n",
    "    lang='en',\n",
    "    country='us',\n",
    "    sort=Sort.NEWEST, \n",
    ")"
   ]
  },
  {
   "cell_type": "code",
   "execution_count": 8,
   "id": "6fd71c0d",
   "metadata": {},
   "outputs": [
    {
     "data": {
      "text/html": [
       "<div>\n",
       "<style scoped>\n",
       "    .dataframe tbody tr th:only-of-type {\n",
       "        vertical-align: middle;\n",
       "    }\n",
       "\n",
       "    .dataframe tbody tr th {\n",
       "        vertical-align: top;\n",
       "    }\n",
       "\n",
       "    .dataframe thead th {\n",
       "        text-align: right;\n",
       "    }\n",
       "</style>\n",
       "<table border=\"1\" class=\"dataframe\">\n",
       "  <thead>\n",
       "    <tr style=\"text-align: right;\">\n",
       "      <th></th>\n",
       "      <th>reviewId</th>\n",
       "      <th>userName</th>\n",
       "      <th>userImage</th>\n",
       "      <th>content</th>\n",
       "      <th>score</th>\n",
       "      <th>thumbsUpCount</th>\n",
       "      <th>reviewCreatedVersion</th>\n",
       "      <th>at</th>\n",
       "      <th>replyContent</th>\n",
       "      <th>repliedAt</th>\n",
       "    </tr>\n",
       "  </thead>\n",
       "  <tbody>\n",
       "    <tr>\n",
       "      <th>0</th>\n",
       "      <td>78da4439-5320-4b90-a67d-df1e24c3312c</td>\n",
       "      <td>Medine Esra Aslan</td>\n",
       "      <td>https://play-lh.googleusercontent.com/a/AGNmyx...</td>\n",
       "      <td>Harika bence ama tek sıkıntı qynı dersi 10 kez...</td>\n",
       "      <td>5</td>\n",
       "      <td>0</td>\n",
       "      <td>13.2.0.463origin/split-app-force-update-final</td>\n",
       "      <td>2022-09-04 14:42:44</td>\n",
       "      <td>None</td>\n",
       "      <td>NaT</td>\n",
       "    </tr>\n",
       "    <tr>\n",
       "      <th>1</th>\n",
       "      <td>7b226acc-86d8-46b7-9830-b4430e1d987e</td>\n",
       "      <td>RAM KRISHNAN</td>\n",
       "      <td>https://play-lh.googleusercontent.com/a-/ACB-R...</td>\n",
       "      <td>Kindly launch a busuu app separately for IELTS.</td>\n",
       "      <td>5</td>\n",
       "      <td>0</td>\n",
       "      <td>24.1.0.460</td>\n",
       "      <td>2022-08-08 09:25:52</td>\n",
       "      <td>None</td>\n",
       "      <td>NaT</td>\n",
       "    </tr>\n",
       "    <tr>\n",
       "      <th>2</th>\n",
       "      <td>7859d0b8-0bcf-46f6-8f15-ba0043ee66dc</td>\n",
       "      <td>Vasif Vəlizade</td>\n",
       "      <td>https://play-lh.googleusercontent.com/a/AGNmyx...</td>\n",
       "      <td>Çok iyi amma a2 geldim 5 çı dersten geçemiyoru...</td>\n",
       "      <td>5</td>\n",
       "      <td>0</td>\n",
       "      <td>24.1.0.460</td>\n",
       "      <td>2022-08-06 00:30:00</td>\n",
       "      <td>None</td>\n",
       "      <td>NaT</td>\n",
       "    </tr>\n",
       "    <tr>\n",
       "      <th>3</th>\n",
       "      <td>17c1a653-8ac0-4963-8b67-9d6522873384</td>\n",
       "      <td>Hande Vatansever</td>\n",
       "      <td>https://play-lh.googleusercontent.com/a/AGNmyx...</td>\n",
       "      <td>Premiumlar için olan sınavda kaldım onu bitirm...</td>\n",
       "      <td>1</td>\n",
       "      <td>6</td>\n",
       "      <td>24.1.0.460</td>\n",
       "      <td>2022-08-02 15:19:52</td>\n",
       "      <td>Merhaba Hande,\\n\\nYaşadığınız mağduriyet için ...</td>\n",
       "      <td>2022-08-02 15:10:55</td>\n",
       "    </tr>\n",
       "    <tr>\n",
       "      <th>4</th>\n",
       "      <td>1053f711-9a8b-43af-bfd5-b86319eb691e</td>\n",
       "      <td>valdomiro andrade</td>\n",
       "      <td>https://play-lh.googleusercontent.com/a/AGNmyx...</td>\n",
       "      <td>Muito lento pra abrir, mesmo na versão paga.</td>\n",
       "      <td>1</td>\n",
       "      <td>0</td>\n",
       "      <td>24.1.0.460</td>\n",
       "      <td>2022-07-26 18:38:20</td>\n",
       "      <td>None</td>\n",
       "      <td>NaT</td>\n",
       "    </tr>\n",
       "  </tbody>\n",
       "</table>\n",
       "</div>"
      ],
      "text/plain": [
       "                               reviewId           userName  \\\n",
       "0  78da4439-5320-4b90-a67d-df1e24c3312c  Medine Esra Aslan   \n",
       "1  7b226acc-86d8-46b7-9830-b4430e1d987e       RAM KRISHNAN   \n",
       "2  7859d0b8-0bcf-46f6-8f15-ba0043ee66dc     Vasif Vəlizade   \n",
       "3  17c1a653-8ac0-4963-8b67-9d6522873384   Hande Vatansever   \n",
       "4  1053f711-9a8b-43af-bfd5-b86319eb691e  valdomiro andrade   \n",
       "\n",
       "                                           userImage  \\\n",
       "0  https://play-lh.googleusercontent.com/a/AGNmyx...   \n",
       "1  https://play-lh.googleusercontent.com/a-/ACB-R...   \n",
       "2  https://play-lh.googleusercontent.com/a/AGNmyx...   \n",
       "3  https://play-lh.googleusercontent.com/a/AGNmyx...   \n",
       "4  https://play-lh.googleusercontent.com/a/AGNmyx...   \n",
       "\n",
       "                                             content  score  thumbsUpCount  \\\n",
       "0  Harika bence ama tek sıkıntı qynı dersi 10 kez...      5              0   \n",
       "1    Kindly launch a busuu app separately for IELTS.      5              0   \n",
       "2  Çok iyi amma a2 geldim 5 çı dersten geçemiyoru...      5              0   \n",
       "3  Premiumlar için olan sınavda kaldım onu bitirm...      1              6   \n",
       "4       Muito lento pra abrir, mesmo na versão paga.      1              0   \n",
       "\n",
       "                            reviewCreatedVersion                  at  \\\n",
       "0  13.2.0.463origin/split-app-force-update-final 2022-09-04 14:42:44   \n",
       "1                                     24.1.0.460 2022-08-08 09:25:52   \n",
       "2                                     24.1.0.460 2022-08-06 00:30:00   \n",
       "3                                     24.1.0.460 2022-08-02 15:19:52   \n",
       "4                                     24.1.0.460 2022-07-26 18:38:20   \n",
       "\n",
       "                                        replyContent           repliedAt  \n",
       "0                                               None                 NaT  \n",
       "1                                               None                 NaT  \n",
       "2                                               None                 NaT  \n",
       "3  Merhaba Hande,\\n\\nYaşadığınız mağduriyet için ... 2022-08-02 15:10:55  \n",
       "4                                               None                 NaT  "
      ]
     },
     "execution_count": 8,
     "metadata": {},
     "output_type": "execute_result"
    }
   ],
   "source": [
    "# Convert collected reviews data into dataframe\n",
    "df_reviews = pd.DataFrame(np.array(users_reviews),columns=['review'])\n",
    "df_reviews = df_reviews.join(pd.DataFrame(df_reviews.pop('review').tolist()))\n",
    "# Display dataframe header\n",
    "df_reviews.head()"
   ]
  },
  {
   "cell_type": "code",
   "execution_count": 9,
   "id": "3da6051b",
   "metadata": {},
   "outputs": [
    {
     "name": "stdout",
     "output_type": "stream",
     "text": [
      "<class 'pandas.core.frame.DataFrame'>\n",
      "RangeIndex: 634 entries, 0 to 633\n",
      "Data columns (total 10 columns):\n",
      " #   Column                Non-Null Count  Dtype         \n",
      "---  ------                --------------  -----         \n",
      " 0   reviewId              634 non-null    object        \n",
      " 1   userName              634 non-null    object        \n",
      " 2   userImage             634 non-null    object        \n",
      " 3   content               633 non-null    object        \n",
      " 4   score                 634 non-null    int64         \n",
      " 5   thumbsUpCount         634 non-null    int64         \n",
      " 6   reviewCreatedVersion  463 non-null    object        \n",
      " 7   at                    634 non-null    datetime64[ns]\n",
      " 8   replyContent          250 non-null    object        \n",
      " 9   repliedAt             250 non-null    datetime64[ns]\n",
      "dtypes: datetime64[ns](2), int64(2), object(6)\n",
      "memory usage: 49.7+ KB\n"
     ]
    }
   ],
   "source": [
    "# Check dataframe information\n",
    "df_reviews.info()"
   ]
  },
  {
   "cell_type": "code",
   "execution_count": 10,
   "id": "dfc54fca",
   "metadata": {},
   "outputs": [
    {
     "data": {
      "text/plain": [
       "5    425\n",
       "4     97\n",
       "1     58\n",
       "3     39\n",
       "2     15\n",
       "Name: score, dtype: int64"
      ]
     },
     "execution_count": 10,
     "metadata": {},
     "output_type": "execute_result"
    }
   ],
   "source": [
    "# Count number of review scores\n",
    "df_reviews['score'].value_counts()"
   ]
  },
  {
   "cell_type": "code",
   "execution_count": 11,
   "id": "30a8e0c4",
   "metadata": {},
   "outputs": [
    {
     "data": {
      "text/plain": [
       "<Axes: ylabel='score'>"
      ]
     },
     "execution_count": 11,
     "metadata": {},
     "output_type": "execute_result"
    },
    {
     "data": {
      "image/png": "[encoded data removed]",
      "text/plain": [
       "<Figure size 800x800 with 1 Axes>"
      ]
     },
     "metadata": {},
     "output_type": "display_data"
    }
   ],
   "source": [
    "# Visualize review scores as pie chart\n",
    "df_reviews['score'].value_counts().plot(kind='pie',figsize=(8,8), autopct='%1.1f%%')"
   ]
  },
  {
   "cell_type": "code",
   "execution_count": 12,
   "id": "eb6b148b",
   "metadata": {},
   "outputs": [],
   "source": [
    "# Create new dataframe with review content and score for further analysis\n",
    "df_reviews_content = pd.DataFrame(df_reviews, columns=['content','score'])"
   ]
  },
  {
   "cell_type": "code",
   "execution_count": 13,
   "id": "adcab8f6",
   "metadata": {},
   "outputs": [
    {
     "data": {
      "text/html": [
       "<div>\n",
       "<style scoped>\n",
       "    .dataframe tbody tr th:only-of-type {\n",
       "        vertical-align: middle;\n",
       "    }\n",
       "\n",
       "    .dataframe tbody tr th {\n",
       "        vertical-align: top;\n",
       "    }\n",
       "\n",
       "    .dataframe thead th {\n",
       "        text-align: right;\n",
       "    }\n",
       "</style>\n",
       "<table border=\"1\" class=\"dataframe\">\n",
       "  <thead>\n",
       "    <tr style=\"text-align: right;\">\n",
       "      <th></th>\n",
       "      <th>content</th>\n",
       "      <th>score</th>\n",
       "    </tr>\n",
       "  </thead>\n",
       "  <tbody>\n",
       "    <tr>\n",
       "      <th>0</th>\n",
       "      <td>Harika bence ama tek sıkıntı qynı dersi 10 kez...</td>\n",
       "      <td>5</td>\n",
       "    </tr>\n",
       "    <tr>\n",
       "      <th>1</th>\n",
       "      <td>Kindly launch a busuu app separately for IELTS.</td>\n",
       "      <td>5</td>\n",
       "    </tr>\n",
       "    <tr>\n",
       "      <th>2</th>\n",
       "      <td>Çok iyi amma a2 geldim 5 çı dersten geçemiyoru...</td>\n",
       "      <td>5</td>\n",
       "    </tr>\n",
       "    <tr>\n",
       "      <th>3</th>\n",
       "      <td>Premiumlar için olan sınavda kaldım onu bitirm...</td>\n",
       "      <td>1</td>\n",
       "    </tr>\n",
       "    <tr>\n",
       "      <th>4</th>\n",
       "      <td>Muito lento pra abrir, mesmo na versão paga.</td>\n",
       "      <td>1</td>\n",
       "    </tr>\n",
       "  </tbody>\n",
       "</table>\n",
       "</div>"
      ],
      "text/plain": [
       "                                             content  score\n",
       "0  Harika bence ama tek sıkıntı qynı dersi 10 kez...      5\n",
       "1    Kindly launch a busuu app separately for IELTS.      5\n",
       "2  Çok iyi amma a2 geldim 5 çı dersten geçemiyoru...      5\n",
       "3  Premiumlar için olan sınavda kaldım onu bitirm...      1\n",
       "4       Muito lento pra abrir, mesmo na versão paga.      1"
      ]
     },
     "execution_count": 13,
     "metadata": {},
     "output_type": "execute_result"
    }
   ],
   "source": [
    "# Display new dataframe header\n",
    "df_reviews_content.head()"
   ]
  },
  {
   "cell_type": "code",
   "execution_count": 15,
   "id": "c8461b8f",
   "metadata": {},
   "outputs": [
    {
     "name": "stderr",
     "output_type": "stream",
     "text": [
      "[nltk_data] Downloading package stopwords to\n",
      "[nltk_data]     C:\\Users\\ashit\\AppData\\Roaming\\nltk_data...\n",
      "[nltk_data]   Unzipping corpora\\stopwords.zip.\n",
      "[nltk_data] Downloading package punkt to\n",
      "[nltk_data]     C:\\Users\\ashit\\AppData\\Roaming\\nltk_data...\n",
      "[nltk_data]   Unzipping tokenizers\\punkt.zip.\n"
     ]
    },
    {
     "data": {
      "text/plain": [
       "True"
      ]
     },
     "execution_count": 15,
     "metadata": {},
     "output_type": "execute_result"
    }
   ],
   "source": [
    "import nltk\n",
    "from nltk.corpus import stopwords\n",
    "from nltk.tokenize import word_tokenize\n",
    "from nltk.stem import SnowballStemmer\n",
    "from sklearn.model_selection import train_test_split\n",
    "from sklearn.naive_bayes import MultinomialNB\n",
    "from sklearn.metrics import confusion_matrix, classification_report\n",
    "import nltk\n",
    "nltk.download('stopwords')\n",
    "nltk.download('punkt')"
   ]
  },
  {
   "cell_type": "code",
   "execution_count": 27,
   "id": "d024b683",
   "metadata": {},
   "outputs": [
    {
     "name": "stdout",
     "output_type": "stream",
     "text": [
      "Confusion Matrix:\n",
      " [[  3  11]\n",
      " [  1 112]]\n",
      "Classification Report:\n",
      "               precision    recall  f1-score   support\n",
      "\n",
      "    negative       0.75      0.21      0.33        14\n",
      "    positive       0.91      0.99      0.95       113\n",
      "\n",
      "    accuracy                           0.91       127\n",
      "   macro avg       0.83      0.60      0.64       127\n",
      "weighted avg       0.89      0.91      0.88       127\n",
      "\n"
     ]
    }
   ],
   "source": [
    "# # Convert collected reviews data into dataframe\n",
    "# df_reviews = pd.DataFrame(reviews)\n",
    "\n",
    "# Label reviews as positive or negative based on rating\n",
    "df_reviews['label'] = np.where(df_reviews['score'].isin([1,2]), 'negative', 'positive')\n",
    "\n",
    "# Apply tokenization and stemming to review text\n",
    "stop_words = set(stopwords.words('english'))\n",
    "stemmer = SnowballStemmer('english')\n",
    "df_reviews['content'].dropna(inplace=True)\n",
    "# convert the column to string\n",
    "df_reviews['content'] = df_reviews['content'].astype(str)\n",
    "df_reviews['tokens'] = df_reviews['content'].apply(lambda x: [stemmer.stem(word.lower()) for word in word_tokenize(x) if word.lower() not in stop_words])\n",
    "\n",
    "# Split data into training and testing sets\n",
    "X = df_reviews['tokens']\n",
    "y = df_reviews['label']\n",
    "X_train, X_test, y_train, y_test = train_test_split(X, y, test_size=0.2, random_state=42)\n",
    "\n",
    "# Create bag-of-words representation for training data\n",
    "from sklearn.feature_extraction.text import CountVectorizer\n",
    "cv = CountVectorizer()\n",
    "X_train_bow = cv.fit_transform(X_train.apply(lambda x: ' '.join(x)))\n",
    "\n",
    "# Train an NBC classifier on the training data\n",
    "nb = MultinomialNB()\n",
    "nb.fit(X_train_bow, y_train)\n",
    "\n",
    "# Evaluate performance on the testing data\n",
    "X_test_bow = cv.transform(X_test.apply(lambda x: ' '.join(x)))\n",
    "y_pred = nb.predict(X_test_bow)\n",
    "print('Confusion Matrix:\\n', confusion_matrix(y_test, y_pred))\n",
    "print('Classification Report:\\n', classification_report(y_test, y_pred))"
   ]
  },
  {
   "cell_type": "markdown",
   "id": "47fbe17e",
   "metadata": {},
   "source": [
    "Extra"
   ]
  },
  {
   "cell_type": "code",
   "execution_count": null,
   "id": "2c8b5eff",
   "metadata": {},
   "outputs": [],
   "source": []
  }
 ],
 "metadata": {
  "kernelspec": {
   "display_name": "Python 3 (ipykernel)",
   "language": "python",
   "name": "python3"
  },
  "language_info": {
   "codemirror_mode": {
    "name": "ipython",
    "version": 3
   },
   "file_extension": ".py",
   "mimetype": "text/x-python",
   "name": "python",
   "nbconvert_exporter": "python",
   "pygments_lexer": "ipython3",
   "version": "3.9.13"
  }
 },
 "nbformat": 4,
 "nbformat_minor": 5
}
